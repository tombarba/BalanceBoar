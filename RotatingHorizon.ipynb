{
 "cells": [
  {
   "attachments": {},
   "cell_type": "markdown",
   "id": "198fb446",
   "metadata": {},
   "source": [
    "# Orientation Estimation\n",
    "\n",
    "\n",
    "## Reference\n",
    "\n",
    "- https://towardsdatascience.com/matplotlib-animations-in-jupyter-notebook-4422e4f0e389\n",
    "    \n",
    "- https://matplotlib.org/stable/gallery/animation/simple_anim.html \n",
    "\n",
    "- https://seanng.my/2020/07/15/wireless-imu-sensor-using-bluetooth-low-energy-ble/\n",
    "\n",
    "- https://roboticsclubiitk.github.io/2017/12/21/Beginners-Guide-to-IMU.html\n",
    "\n",
    "- Complementary filter https://www.pieter-jan.com/node/11\n",
    "\n",
    "- Arduino IMU https://docs.arduino.cc/tutorials/nano-33-ble-sense/imu_accelerometer\n",
    "\n",
    "- https://stackoverflow.com/questions/23009549/roll-pitch-yaw-calculation\n",
    "\n",
    "- https://habr.com/en/post/499190/\n",
    "\n",
    " - https://docs.arduino.cc/tutorials/nano-33-ble-sense/imu_magnetometer\n",
    " \n",
    " - https://docs.arduino.cc/tutorials/nano-33-ble-sense/imu_gyroscope\n",
    " \n",
    "- https://www.infineon.com/dgdl/Infineon-3D_Magnetic_Sensor_for_Angle_Measurements-AN-v01_10-AN-v01_01-EN.pdf?fileId=5546d46265f064ff01665a3d22f055e3"
   ]
  },
  {
   "cell_type": "markdown",
   "id": "d9c65f30",
   "metadata": {},
   "source": [
    "![style=centerme](....png)"
   ]
  },
  {
   "cell_type": "code",
   "execution_count": 1,
   "id": "e04275bd",
   "metadata": {},
   "outputs": [],
   "source": [
    "import matplotlib.pylab as plt\n",
    "import numpy as np\n",
    "import matplotlib.animation as animation\n",
    "import pandas as pd\n",
    "import time \n",
    "import collections\n",
    "import serial\n",
    "import threading"
   ]
  },
  {
   "cell_type": "code",
   "execution_count": 2,
   "id": "73bc1ec6",
   "metadata": {},
   "outputs": [
    {
     "name": "stdout",
     "output_type": "stream",
     "text": [
      "Using matplotlib backend: <object object at 0x7faeb8028d90>\n",
      "%pylab is deprecated, use %matplotlib inline and import the required libraries.\n",
      "Populating the interactive namespace from numpy and matplotlib\n"
     ]
    },
    {
     "name": "stderr",
     "output_type": "stream",
     "text": [
      "/Users/Tommaso/miniconda3/lib/python3.9/site-packages/IPython/core/magics/pylab.py:162: UserWarning: pylab import has clobbered these variables: ['plt']\n",
      "`%matplotlib` prevents importing * from pylab and numpy\n",
      "  warn(\"pylab import has clobbered these variables: %s\"  % clobbered +\n"
     ]
    }
   ],
   "source": [
    "%pylab"
   ]
  },
  {
   "cell_type": "code",
   "execution_count": 3,
   "id": "f4965a6e",
   "metadata": {},
   "outputs": [],
   "source": [
    "#https://en.wikipedia.org/wiki/Rotation_matrix"
   ]
  },
  {
   "cell_type": "code",
   "execution_count": 91,
   "id": "fe771f29",
   "metadata": {},
   "outputs": [],
   "source": [
    "def R(theta):#roll\n",
    "    theta_rad = np.rad2deg(theta)\n",
    "    return np.array([[np.cos(theta),-np.sin(theta)],\n",
    "                     [np.sin(theta),np.cos(theta)]])\n",
    "\n",
    "def rotation(X,theta):\n",
    "\n",
    "    return X@R(theta)\n",
    "\n",
    "horizon = np.array([[-3,0.25],[3,0.25],[3,-0.25],[-3,-0.25],[-3,0.25]])\n",
    "box = np.array([[-3,0],[3,0]])#,[3,-1],[-3,-1],[-3,0]])\n"
   ]
  },
  {
   "cell_type": "code",
   "execution_count": null,
   "id": "bd16b883",
   "metadata": {},
   "outputs": [],
   "source": []
  },
  {
   "cell_type": "code",
   "execution_count": 5,
   "id": "f0ff05e1",
   "metadata": {},
   "outputs": [
    {
     "name": "stdout",
     "output_type": "stream",
     "text": [
      "Using matplotlib backend: MacOSX\n",
      "%pylab is deprecated, use %matplotlib inline and import the required libraries.\n",
      "Populating the interactive namespace from numpy and matplotlib\n"
     ]
    }
   ],
   "source": [
    "%pylab"
   ]
  },
  {
   "cell_type": "code",
   "execution_count": 6,
   "id": "0307c173",
   "metadata": {},
   "outputs": [
    {
     "data": {
      "text/plain": [
       "(-1.1, 1.1, -0.9359938769875302, 0.9359938769875302)"
      ]
     },
     "execution_count": 6,
     "metadata": {},
     "output_type": "execute_result"
    }
   ],
   "source": [
    "plt.plot([horizon[0,0],horizon[1,0]],[horizon[0,1],horizon[1,1]],'o-')\n",
    "\n",
    "rotated_horizon = rotation(horizon,45)\n",
    "plt.plot([rotated_horizon[0,0],rotated_horizon[1,0]],[rotated_horizon[0,1],rotated_horizon[1,1]],'o-')\n",
    "plt.axis('equal')"
   ]
  },
  {
   "cell_type": "code",
   "execution_count": 14,
   "id": "ec417666",
   "metadata": {},
   "outputs": [],
   "source": [
    "import numpy as np\n",
    "#collections.deque(np.arange(1000), maxlen=1000),"
   ]
  },
  {
   "cell_type": "code",
   "execution_count": 7,
   "id": "c2a4a133",
   "metadata": {},
   "outputs": [],
   "source": [
    "class arduino(object):#serial_port,baud_rate=baud_rate):\n",
    "    \n",
    "    def __init__(self,serial_port='/dev/cu.usbmodem14201',baud_rate=9600,vector_lenght=1000,alpha=0.02):\n",
    "        \n",
    "        self.serial_port   = serial_port\n",
    "        self.baud_rate     = baud_rate\n",
    "        \n",
    "        self.alpha         = 0.02\n",
    "        \n",
    "        self.vector_lenght = vector_lenght\n",
    "        \n",
    "        self.Timestamp    = collections.deque(np.arange(vector_lenght), maxlen=vector_lenght)\n",
    "        self.TimeInterval = collections.deque(np.arange(vector_lenght), maxlen=vector_lenght)\n",
    "        \n",
    "        self.Accelerometer = {'x':collections.deque([0]*vector_lenght, maxlen=vector_lenght),\n",
    "                              'y':collections.deque([0]*vector_lenght, maxlen=vector_lenght),\n",
    "                              'z':collections.deque([0]*vector_lenght, maxlen=vector_lenght)}\n",
    "        self.Gyroscope     = {'x':collections.deque([0]*vector_lenght, maxlen=vector_lenght),\n",
    "                              'y':collections.deque([0]*vector_lenght, maxlen=vector_lenght),\n",
    "                              'z':collections.deque([0]*vector_lenght, maxlen=vector_lenght)}\n",
    "        self.Magnetometer  = {'x':collections.deque([0]*vector_lenght, maxlen=vector_lenght),\n",
    "                              'y':collections.deque([0]*vector_lenght, maxlen=vector_lenght),\n",
    "                              'z':collections.deque([0]*vector_lenght, maxlen=vector_lenght)}\n",
    "        \n",
    "       \n",
    "        self.Roll   = {'Accelerometer':collections.deque([0]*vector_lenght, maxlen=vector_lenght),\n",
    "                      'Gyroscope'    :collections.deque([0]*vector_lenght, maxlen=vector_lenght),\n",
    "                      'Magnetometer' :collections.deque([0]*vector_lenght, maxlen=vector_lenght),\n",
    "                      'Complementary':collections.deque([0]*vector_lenght, maxlen=vector_lenght)}\n",
    "\n",
    "    def read_serial_monitor(self):\n",
    "    \n",
    "        arduinoString = self.arduinoData.readline()\n",
    "        arduinoString = arduinoString.decode(\"utf-8\")\n",
    "        arduinoString = arduinoString.strip()\n",
    "\n",
    "        self.char_list     = arduinoString.split('\\t')  \n",
    "        \n",
    "        #print(\"\\r{:}\".format(self.char_list),end='')\n",
    "        #print(\"\\rtest\",end='')\n",
    "        \n",
    "        \n",
    "    def wait_serial_monitor(self):\n",
    "        \n",
    "        self.read_serial_monitor()\n",
    "        while len(self.char_list)!=10: \n",
    "            print(\"\\rConnecting...\",end='')\n",
    "            self.read_serial_monitor()\n",
    "        print(\"\\rConnected     \",end='')\n",
    "\n",
    "\n",
    "    def get_new_data(self):\n",
    "    \n",
    "        self.read_serial_monitor()\n",
    "        \n",
    "        timestamp,ax,ay,az,gx,gy,gz,mx,my,mz = self.char_list\n",
    "        \n",
    "        if mz == 'ovf': \n",
    "            mz = 0\n",
    "            \n",
    "        timestamp,ax,ay,az,gx,gy,gz,mx,my,mz = float(timestamp),float(ax),float(ay),float(az),float(gx),float(gy),float(gz),float(mx),float(my),float(mz)\n",
    "\n",
    "        timestamp /= 1000\n",
    "        gx,gy,gz  = np.deg2rad(gx),np.deg2rad(gy),np.deg2rad(gz)\n",
    "        \n",
    "        self.update_raw_vectors(timestamp,ax,ay,az,gx,gy,gz,mx,my,mz)\n",
    "        \n",
    "    def update_raw_vectors(self,timestamp,ax,ay,az,gx,gy,gz,mx,my,mz):\n",
    "        \n",
    "        self.Timestamp.append(float(timestamp))\n",
    "        self.TimeInterval.append(self.Timestamp[-1]-self.Timestamp[-2])\n",
    "        self.Accelerometer['x'].append(ax);self.Accelerometer['y'].append(ay);self.Accelerometer['z'].append(az)\n",
    "        self.Gyroscope['x'].append(gx);    self.Gyroscope['y'].append(gy);    self.Gyroscope['z'].append(gz)\n",
    "        self.Magnetometer['x'].append(mx); self.Magnetometer['y'].append(my); self.Magnetometer['z'].append(mz)\n",
    "\n",
    "   \n",
    "    def read(self):\n",
    "            \n",
    "        self.arduinoData = serial.Serial(self.serial_port, self.baud_rate) \n",
    "        \n",
    "        self.wait_serial_monitor()\n",
    "        self.get_new_data()\n",
    "        \n",
    "        while True:\n",
    "            \n",
    "            self.get_new_data()\n",
    "            \n",
    "            alpha = 0.02\n",
    "            \n",
    "            self.Roll['Accelerometer'].append( np.arctan2(self.Accelerometer['y'][-1],self.Accelerometer['x'][-1]))\n",
    "            self.Roll['Gyroscope'].append(self.Gyroscope['z'][-1]*self.TimeInterval[-1]+self.Roll['Gyroscope'][-1])\n",
    "            #self.Roll['Magnetometer']\n",
    "            self.Roll['Complementary'].append((1-alpha)*(self.Roll['Complementary'][-1]  + self.Gyroscope['z'][-1]*self.TimeInterval[-1]) + alpha*self.Roll['Accelerometer'][-1])\n",
    "            \n",
    "            if (self.Magnetometer['x'][-1]==0)&(self.Magnetometer['y'][-1]==0)&(self.Magnetometer['z'][-1]==0):\n",
    "                \n",
    "                self.Magnetometer['x'][-1],self.Magnetometer['y'][-1],self.Magnetometer['z'][-1]=self.Magnetometer['x'][-2],self.Magnetometer['y'][-2],self.Magnetometer['z'][-2]\n",
    "\n",
    "            \n",
    "            "
   ]
  },
  {
   "cell_type": "markdown",
   "id": "341609fa",
   "metadata": {},
   "source": [
    "# Yaw Pitch Roll"
   ]
  },
  {
   "cell_type": "code",
   "execution_count": 94,
   "id": "c132205a",
   "metadata": {},
   "outputs": [
    {
     "name": "stdout",
     "output_type": "stream",
     "text": [
      "Connected     "
     ]
    },
    {
     "name": "stderr",
     "output_type": "stream",
     "text": [
      "Exception in thread Thread-80:\n",
      "Traceback (most recent call last):\n",
      "  File \"/Users/Tommaso/miniconda3/lib/python3.9/threading.py\", line 954, in _bootstrap_inner\n",
      "    self.run()\n",
      "  File \"/Users/Tommaso/miniconda3/lib/python3.9/threading.py\", line 892, in run\n",
      "    self._target(*self._args, **self._kwargs)\n",
      "  File \"/var/folders/js/5j9mcztd6ss89xbc4d0py4z40000gn/T/ipykernel_50132/2852808428.py\", line 86, in read\n",
      "  File \"/var/folders/js/5j9mcztd6ss89xbc4d0py4z40000gn/T/ipykernel_50132/2852808428.py\", line 54, in get_new_data\n",
      "  File \"/var/folders/js/5j9mcztd6ss89xbc4d0py4z40000gn/T/ipykernel_50132/2852808428.py\", line 33, in read_serial_monitor\n"
     ]
    },
    {
     "name": "stderr",
     "output_type": "stream",
     "text": [
      "  File \"/Users/Tommaso/miniconda3/lib/python3.9/site-packages/serial/serialposix.py\", line 595, in read\n",
      "    raise SerialException(\n",
      "serial.serialutil.SerialException: device reports readiness to read but returned no data (device disconnected or multiple access on port?)\n",
      "Exception in thread Thread-81:\n",
      "Traceback (most recent call last):\n",
      "  File \"/Users/Tommaso/miniconda3/lib/python3.9/site-packages/serial/serialposix.py\", line 575, in read\n",
      "    buf = os.read(self.fd, size - len(read))\n",
      "OSError: [Errno 6] Device not configured\n",
      "\n",
      "During handling of the above exception, another exception occurred:\n",
      "\n",
      "Traceback (most recent call last):\n",
      "  File \"/Users/Tommaso/miniconda3/lib/python3.9/threading.py\", line 954, in _bootstrap_inner\n",
      "    self.run()\n",
      "  File \"/Users/Tommaso/miniconda3/lib/python3.9/threading.py\", line 892, in run\n",
      "    self._target(*self._args, **self._kwargs)\n",
      "  File \"/var/folders/js/5j9mcztd6ss89xbc4d0py4z40000gn/T/ipykernel_50132/2852808428.py\", line 86, in read\n",
      "  File \"/var/folders/js/5j9mcztd6ss89xbc4d0py4z40000gn/T/ipykernel_50132/2852808428.py\", line 54, in get_new_data\n",
      "  File \"/var/folders/js/5j9mcztd6ss89xbc4d0py4z40000gn/T/ipykernel_50132/2852808428.py\", line 33, in read_serial_monitor\n",
      "  File \"/Users/Tommaso/miniconda3/lib/python3.9/site-packages/serial/serialposix.py\", line 581, in read\n",
      "    raise SerialException('read failed: {}'.format(e))\n",
      "serial.serialutil.SerialException: read failed: [Errno 6] Device not configured\n"
     ]
    }
   ],
   "source": [
    "my_arduino = arduino()\n",
    "#Loops the in_background function\n",
    "try:\n",
    "    thread = threading.Thread(target = my_arduino.read)\n",
    "    thread.start() \n",
    "\n",
    "except KeyboardInterrupt:\n",
    "    thread._Thread_stop() \n",
    "    #sys.exit()\n",
    "    \n",
    "fig, ax3 = plt.subplots(1,1,figsize=[6.4,4.8])\n",
    "\n",
    "_=ax3.plot([-10,10],[0,0],lw=50,c='r')\n",
    "rotated_horizon = rotation(horizon,my_arduino.Roll['Complementary'][-1])\n",
    "rotated_box = rotation(box,my_arduino.Roll['Complementary'][-1])\n",
    "\n",
    "boxLine = ax3.plot(rotated_box[:,0],rotated_box[:,1],lw=50,c='white')\n",
    "horizonLine = ax3.plot(rotated_horizon[:,0],rotated_horizon[:,1],lw=5,c='k')\n",
    "#Box = ax3.fill_between(rotated_horizon[:,0],rotated_horizon[:,1])#,zorder=-1,color='k')\n",
    "\n",
    "#ax3.set_xticks([-np.pi,-np.deg2rad(16),-np.deg2rad(5),0,np.deg2rad(5),np.deg2rad(16),np.pi],[\"-90\",\"-16\",\"-5\",\"0\",\"5\",\"16\",\"90\"])\n",
    "ax3.set_xlim([-2.1,2.1])\n",
    "ax3.set_ylim([-1.1,1.1])\n",
    "#ax3.grid(True)\n",
    "ax3.set_aspect('equal')#, 'box')\n",
    "ax3.axis('off')\n",
    "\n",
    "def animate(i):\n",
    "    \n",
    "    rotated_horizon = rotation(horizon,my_arduino.Roll['Complementary'][-1])\n",
    "    rotated_box     = rotation(box,my_arduino.Roll['Complementary'][-1])\n",
    "\n",
    "    horizonLine[0].set_xdata(rotated_horizon[:,0])\n",
    "    horizonLine[0].set_ydata(rotated_horizon[:,1])\n",
    "\n",
    "    boxLine[0].set_xdata(rotated_box[:,0])\n",
    "    boxLine[0].set_ydata(rotated_box[:,1])\n",
    "\n",
    "\n",
    "\n",
    "ani = animation.FuncAnimation(fig, animate, interval=200)\n",
    "\n",
    "\n"
   ]
  },
  {
   "cell_type": "code",
   "execution_count": 60,
   "id": "9bf45a20",
   "metadata": {},
   "outputs": [
    {
     "data": {
      "text/plain": [
       "<matplotlib.lines.Line2D at 0x7fae77cf6cd0>"
      ]
     },
     "execution_count": 60,
     "metadata": {},
     "output_type": "execute_result"
    }
   ],
   "source": [
    "RollComplementary[0]"
   ]
  },
  {
   "cell_type": "code",
   "execution_count": null,
   "id": "a73ddff1",
   "metadata": {},
   "outputs": [],
   "source": []
  }
 ],
 "metadata": {
  "kernelspec": {
   "display_name": "Python 3.9.5 ('base')",
   "language": "python",
   "name": "python3"
  },
  "language_info": {
   "codemirror_mode": {
    "name": "ipython",
    "version": 3
   },
   "file_extension": ".py",
   "mimetype": "text/x-python",
   "name": "python",
   "nbconvert_exporter": "python",
   "pygments_lexer": "ipython3",
   "version": "3.9.5"
  },
  "vscode": {
   "interpreter": {
    "hash": "0ef28638db3e0715cbd1390846db5a656635755ef8f27a2e5e3b5c2f4b7a222d"
   }
  }
 },
 "nbformat": 4,
 "nbformat_minor": 5
}
