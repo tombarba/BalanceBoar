{
 "cells": [
  {
   "attachments": {},
   "cell_type": "markdown",
   "id": "198fb446",
   "metadata": {},
   "source": [
    "# Orientation Estimation\n",
    "\n",
    "\n",
    "## Reference\n",
    "\n",
    "- https://towardsdatascience.com/matplotlib-animations-in-jupyter-notebook-4422e4f0e389\n",
    "    \n",
    "- https://matplotlib.org/stable/gallery/animation/simple_anim.html \n",
    "\n",
    "- https://seanng.my/2020/07/15/wireless-imu-sensor-using-bluetooth-low-energy-ble/\n",
    "\n",
    "- https://roboticsclubiitk.github.io/2017/12/21/Beginners-Guide-to-IMU.html\n",
    "\n",
    "- Complementary filter https://www.pieter-jan.com/node/11\n",
    "\n",
    "- Arduino IMU https://docs.arduino.cc/tutorials/nano-33-ble-sense/imu_accelerometer\n",
    "\n",
    "- https://stackoverflow.com/questions/23009549/roll-pitch-yaw-calculation\n",
    "\n",
    "- https://habr.com/en/post/499190/\n",
    "\n",
    " - https://docs.arduino.cc/tutorials/nano-33-ble-sense/imu_magnetometer\n",
    " \n",
    " - https://docs.arduino.cc/tutorials/nano-33-ble-sense/imu_gyroscope\n",
    " \n",
    "- https://www.infineon.com/dgdl/Infineon-3D_Magnetic_Sensor_for_Angle_Measurements-AN-v01_10-AN-v01_01-EN.pdf?fileId=5546d46265f064ff01665a3d22f055e3"
   ]
  },
  {
   "cell_type": "markdown",
   "id": "d9c65f30",
   "metadata": {},
   "source": [
    "![style=centerme](....png)"
   ]
  },
  {
   "cell_type": "code",
   "execution_count": 20,
   "id": "e04275bd",
   "metadata": {},
   "outputs": [],
   "source": [
    "import matplotlib.pylab as plt\n",
    "import numpy as np\n",
    "import matplotlib.animation as animation\n",
    "import pandas as pd\n",
    "import time \n",
    "import collections\n",
    "import serial\n",
    "import threading"
   ]
  },
  {
   "cell_type": "code",
   "execution_count": 21,
   "id": "f0ff05e1",
   "metadata": {},
   "outputs": [
    {
     "name": "stdout",
     "output_type": "stream",
     "text": [
      "Using matplotlib backend: MacOSX\n",
      "%pylab is deprecated, use %matplotlib inline and import the required libraries.\n",
      "Populating the interactive namespace from numpy and matplotlib\n"
     ]
    },
    {
     "name": "stderr",
     "output_type": "stream",
     "text": [
      "/Users/Tommaso/miniconda3/lib/python3.9/site-packages/IPython/core/magics/pylab.py:162: UserWarning: pylab import has clobbered these variables: ['std', 'Text', 'mean', 'plt']\n",
      "`%matplotlib` prevents importing * from pylab and numpy\n",
      "  warn(\"pylab import has clobbered these variables: %s\"  % clobbered +\n"
     ]
    }
   ],
   "source": [
    "%pylab"
   ]
  },
  {
   "cell_type": "code",
   "execution_count": 22,
   "id": "ec417666",
   "metadata": {},
   "outputs": [
    {
     "name": "stderr",
     "output_type": "stream",
     "text": [
      "Traceback (most recent call last):\n",
      "  File \"/Users/Tommaso/miniconda3/lib/python3.9/site-packages/matplotlib/cbook/__init__.py\", line 287, in process\n",
      "    func(*args, **kwargs)\n",
      "  File \"/Users/Tommaso/miniconda3/lib/python3.9/site-packages/matplotlib/animation.py\", line 909, in _start\n",
      "    self._init_draw()\n",
      "  File \"/Users/Tommaso/miniconda3/lib/python3.9/site-packages/matplotlib/animation.py\", line 1698, in _init_draw\n",
      "    self._draw_frame(frame_data)\n",
      "  File \"/Users/Tommaso/miniconda3/lib/python3.9/site-packages/matplotlib/animation.py\", line 1720, in _draw_frame\n",
      "    self._drawn_artists = self._func(framedata, *self._args)\n",
      "  File \"/var/folders/js/5j9mcztd6ss89xbc4d0py4z40000gn/T/ipykernel_62926/3760398566.py\", line 59, in animate\n",
      "    Text.set_text(title)\n",
      "TypeError: set_text() missing 1 required positional argument: 's'\n"
     ]
    }
   ],
   "source": [
    "import numpy as np\n",
    "#collections.deque(np.arange(1000), maxlen=1000),"
   ]
  },
  {
   "cell_type": "code",
   "execution_count": 23,
   "id": "c2a4a133",
   "metadata": {},
   "outputs": [],
   "source": [
    "class arduino(object):#serial_port,baud_rate=baud_rate):\n",
    "    \n",
    "    def __init__(self,serial_port='/dev/cu.usbmodem14201',baud_rate=9600,vector_lenght=500,alpha=0.02):\n",
    "        \n",
    "        self.serial_port   = serial_port\n",
    "        self.baud_rate     = baud_rate\n",
    "        \n",
    "        self.alpha         = 0.02\n",
    "        \n",
    "        self.vector_lenght = vector_lenght\n",
    "        \n",
    "        \n",
    "        self.raw_data = collections.deque([0]*vector_lenght, maxlen=vector_lenght)\n",
    "\n",
    "    def read_serial_monitor(self,arduinoData):\n",
    "    \n",
    "        arduinoString = arduinoData.readline()\n",
    "        arduinoString = arduinoString.decode(\"utf-8\")\n",
    "        arduinoString = arduinoString.strip()\n",
    "\n",
    "        self.char_list     = arduinoString.split('\\t')  \n",
    "        \n",
    "\n",
    "        return float(arduinoString)\n",
    "   \n",
    "    def read(self):\n",
    "            \n",
    "        self.arduinoData = serial.Serial(self.serial_port, self.baud_rate) \n",
    "\n",
    "        while True:\n",
    "            x = self.read_serial_monitor(self.arduinoData)\n",
    "            #print(\"{:>30}\".format(x),end=\"\")\n",
    "            self.raw_data.append(x)\n",
    "        \n",
    "       \n",
    "            "
   ]
  },
  {
   "cell_type": "markdown",
   "id": "341609fa",
   "metadata": {},
   "source": [
    "# Yaw Pitch Roll"
   ]
  },
  {
   "cell_type": "code",
   "execution_count": 34,
   "id": "c132205a",
   "metadata": {},
   "outputs": [
    {
     "name": "stderr",
     "output_type": "stream",
     "text": [
      "Exception in thread Thread-31:\n",
      "Traceback (most recent call last):\n",
      "  File \"/Users/Tommaso/miniconda3/lib/python3.9/threading.py\", line 954, in _bootstrap_inner\n",
      "    self.run()\n",
      "  File \"/Users/Tommaso/miniconda3/lib/python3.9/threading.py\", line 892, in run\n",
      "    self._target(*self._args, **self._kwargs)\n",
      "  File \"/var/folders/js/5j9mcztd6ss89xbc4d0py4z40000gn/T/ipykernel_62926/2096052595.py\", line 31, in read\n",
      "  File \"/var/folders/js/5j9mcztd6ss89xbc4d0py4z40000gn/T/ipykernel_62926/2096052595.py\", line 17, in read_serial_monitor\n",
      "  File \"/Users/Tommaso/miniconda3/lib/python3.9/site-packages/serial/serialposix.py\", line 595, in read\n",
      "    raise SerialException(\n",
      "serial.serialutil.SerialException: device reports readiness to read but returned no data (device disconnected or multiple access on port?)\n"
     ]
    }
   ],
   "source": [
    "def mean_update(mean,x,n):\n",
    "    mean = (mean*n+x)/(n+1)\n",
    "    n = n+1\n",
    "    return mean,n\n",
    "\n",
    "start_time = time.time()\n",
    "\n",
    "my_arduino = arduino()\n",
    "#Loops the in_background function\n",
    "try:\n",
    "    thread = threading.Thread(target = my_arduino.read)\n",
    "    thread.start() \n",
    "\n",
    "except KeyboardInterrupt:\n",
    "    thread._Thread_stop() \n",
    "    #sys.exit()\n",
    "    \n",
    "fig, ax3 = plt.subplots(1,1,figsize=[6.4,4.8])\n",
    "\n",
    "raw_data, = ax3.plot(my_arduino.raw_data,np.arange(500))\n",
    "\n",
    "mean = np.mean(my_arduino.raw_data)\n",
    "std = np.std(my_arduino.raw_data)\n",
    "mean_bar, = ax3.plot([0,mean],[-20,-20],lw=5,marker='o')\n",
    "std_bar,  = ax3.plot([mean-2*std,mean+2*std],[-10,-10],lw=5,marker='o')\n",
    "\n",
    "#Text = ax3.text(0,0,my_arduino.Roll['Complementary'][-1])\n",
    "Text = ax3.set_title(\"{:.2f}\\n{:.0f} s\".format(my_arduino.raw_data[-1],start_time))\n",
    "\n",
    "#lim = [-np.pi*1.1,np.pi*1.1]\n",
    "#ax1.set_ylim(lim);ax2.set_ylim(lim);ax3.set_ylim(lim)\n",
    "\n",
    "ax3.set_xticks([-16,-5,0,5,16])\n",
    "#ax3.set_xlim([-np.deg2rad(20),np.deg2rad(20)])\n",
    "ax3.set_xlim([-20,20])\n",
    "ax3.grid(True)\n",
    "\n",
    "\n",
    "def animate(i,):\n",
    "    \n",
    "    vector = my_arduino.raw_data\n",
    "    x = vector[-1]\n",
    "\n",
    "    mean = np.mean(vector)\n",
    "    std  = np.std(vector)\n",
    "\n",
    "    time_from_start = time.time()-start_time\n",
    "    #mean,n = mean_update(mean,x,n)\n",
    "    \n",
    "    #RollAccelerometer.set_xdata(my_arduino.Roll['Accelerometer'])\n",
    "    #RollGyroscope.set_xdata(my_arduino.Roll['Gyroscope'])\n",
    "    raw_data.set_xdata(vector)\n",
    "    mean_bar.set_xdata([0,mean])\n",
    "    std_bar.set_xdata([mean-2*std,mean+2*std])\n",
    "\n",
    "    title = \"{:.1f}\".format(x)\n",
    "    title += \"\\nmean: {:.1f} | std: {:.1f}\".format(mean,std)\n",
    "    title += \"\\n{:.0f} s\".format(time_from_start)\n",
    "    Text.set_text(title)\n",
    "    \n",
    "\n",
    "ani = animation.FuncAnimation(fig, animate, interval=200)\n"
   ]
  },
  {
   "cell_type": "code",
   "execution_count": null,
   "id": "25bba9ab",
   "metadata": {},
   "outputs": [],
   "source": []
  }
 ],
 "metadata": {
  "kernelspec": {
   "display_name": "Python 3.9.5 ('base')",
   "language": "python",
   "name": "python3"
  },
  "language_info": {
   "codemirror_mode": {
    "name": "ipython",
    "version": 3
   },
   "file_extension": ".py",
   "mimetype": "text/x-python",
   "name": "python",
   "nbconvert_exporter": "python",
   "pygments_lexer": "ipython3",
   "version": "3.9.5"
  },
  "vscode": {
   "interpreter": {
    "hash": "0ef28638db3e0715cbd1390846db5a656635755ef8f27a2e5e3b5c2f4b7a222d"
   }
  }
 },
 "nbformat": 4,
 "nbformat_minor": 5
}
