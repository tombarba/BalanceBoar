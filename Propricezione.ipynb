{
 "cells": [
  {
   "attachments": {},
   "cell_type": "markdown",
   "id": "198fb446",
   "metadata": {},
   "source": [
    "# Orientation Estimation\n",
    "\n",
    "\n",
    "## Reference\n",
    "\n",
    "- https://towardsdatascience.com/matplotlib-animations-in-jupyter-notebook-4422e4f0e389\n",
    "    \n",
    "- https://matplotlib.org/stable/gallery/animation/simple_anim.html \n",
    "\n",
    "- https://seanng.my/2020/07/15/wireless-imu-sensor-using-bluetooth-low-energy-ble/\n",
    "\n",
    "- https://roboticsclubiitk.github.io/2017/12/21/Beginners-Guide-to-IMU.html\n",
    "\n",
    "- Complementary filter https://www.pieter-jan.com/node/11\n",
    "\n",
    "- Arduino IMU https://docs.arduino.cc/tutorials/nano-33-ble-sense/imu_accelerometer\n",
    "\n",
    "- https://stackoverflow.com/questions/23009549/roll-pitch-yaw-calculation\n",
    "\n",
    "- https://habr.com/en/post/499190/\n",
    "\n",
    " - https://docs.arduino.cc/tutorials/nano-33-ble-sense/imu_magnetometer\n",
    " \n",
    " - https://docs.arduino.cc/tutorials/nano-33-ble-sense/imu_gyroscope\n",
    " \n",
    "- https://www.infineon.com/dgdl/Infineon-3D_Magnetic_Sensor_for_Angle_Measurements-AN-v01_10-AN-v01_01-EN.pdf?fileId=5546d46265f064ff01665a3d22f055e3"
   ]
  },
  {
   "cell_type": "markdown",
   "id": "d9c65f30",
   "metadata": {},
   "source": [
    "![style=centerme](....png)"
   ]
  },
  {
   "cell_type": "code",
   "execution_count": 59,
   "id": "e04275bd",
   "metadata": {},
   "outputs": [],
   "source": [
    "import matplotlib.pylab as plt\n",
    "import numpy as np\n",
    "import matplotlib.animation as animation\n",
    "import pandas as pd\n",
    "import time \n",
    "import collections\n",
    "import serial\n",
    "import threading"
   ]
  },
  {
   "cell_type": "code",
   "execution_count": 60,
   "id": "f0ff05e1",
   "metadata": {},
   "outputs": [
    {
     "name": "stdout",
     "output_type": "stream",
     "text": [
      "Using matplotlib backend: MacOSX\n",
      "%pylab is deprecated, use %matplotlib inline and import the required libraries.\n",
      "Populating the interactive namespace from numpy and matplotlib\n"
     ]
    },
    {
     "name": "stderr",
     "output_type": "stream",
     "text": [
      "/Users/Tommaso/miniconda3/lib/python3.9/site-packages/IPython/core/magics/pylab.py:162: UserWarning: pylab import has clobbered these variables: ['plt']\n",
      "`%matplotlib` prevents importing * from pylab and numpy\n",
      "  warn(\"pylab import has clobbered these variables: %s\"  % clobbered +\n"
     ]
    }
   ],
   "source": [
    "%pylab"
   ]
  },
  {
   "cell_type": "code",
   "execution_count": 54,
   "id": "ec417666",
   "metadata": {},
   "outputs": [],
   "source": [
    "import numpy as np\n",
    "#collections.deque(np.arange(1000), maxlen=1000),"
   ]
  },
  {
   "cell_type": "code",
   "execution_count": 61,
   "id": "c2a4a133",
   "metadata": {},
   "outputs": [],
   "source": [
    "class arduino(object):#serial_port,baud_rate=baud_rate):\n",
    "    \n",
    "    def __init__(self,serial_port='/dev/cu.usbmodem14201',baud_rate=9600,vector_lenght=1000,alpha=0.02):\n",
    "        \n",
    "        self.serial_port   = serial_port\n",
    "        self.baud_rate     = baud_rate\n",
    "        \n",
    "        self.alpha         = 0.02\n",
    "        \n",
    "        self.vector_lenght = vector_lenght\n",
    "        \n",
    "        self.Timestamp    = collections.deque(np.arange(vector_lenght), maxlen=vector_lenght)\n",
    "        self.TimeInterval = collections.deque(np.arange(vector_lenght), maxlen=vector_lenght)\n",
    "        \n",
    "        self.Accelerometer = {'x':collections.deque([0]*vector_lenght, maxlen=vector_lenght),\n",
    "                              'y':collections.deque([0]*vector_lenght, maxlen=vector_lenght),\n",
    "                              'z':collections.deque([0]*vector_lenght, maxlen=vector_lenght)}\n",
    "        self.Gyroscope     = {'x':collections.deque([0]*vector_lenght, maxlen=vector_lenght),\n",
    "                              'y':collections.deque([0]*vector_lenght, maxlen=vector_lenght),\n",
    "                              'z':collections.deque([0]*vector_lenght, maxlen=vector_lenght)}\n",
    "        self.Magnetometer  = {'x':collections.deque([0]*vector_lenght, maxlen=vector_lenght),\n",
    "                              'y':collections.deque([0]*vector_lenght, maxlen=vector_lenght),\n",
    "                              'z':collections.deque([0]*vector_lenght, maxlen=vector_lenght)}\n",
    "        \n",
    "       \n",
    "        self.Roll   = {'Accelerometer':collections.deque([0]*vector_lenght, maxlen=vector_lenght),\n",
    "                      'Gyroscope'    :collections.deque([0]*vector_lenght, maxlen=vector_lenght),\n",
    "                      'Magnetometer' :collections.deque([0]*vector_lenght, maxlen=vector_lenght),\n",
    "                      'Complementary':collections.deque([0]*vector_lenght, maxlen=vector_lenght)}\n",
    "\n",
    "    def read_serial_monitor(self):\n",
    "    \n",
    "        arduinoString = self.arduinoData.readline()\n",
    "        arduinoString = arduinoString.decode(\"utf-8\")\n",
    "        arduinoString = arduinoString.strip()\n",
    "\n",
    "        self.char_list     = arduinoString.split('\\t')  \n",
    "        \n",
    "        #print(\"\\r{:}\".format(self.char_list),end='')\n",
    "        #print(\"\\rtest\",end='')\n",
    "        \n",
    "        \n",
    "    def wait_serial_monitor(self):\n",
    "        \n",
    "        self.read_serial_monitor()\n",
    "        while len(self.char_list)!=10: \n",
    "            print(\"\\rConnecting...\",end='')\n",
    "            self.read_serial_monitor()\n",
    "        print(\"\\rConnected     \",end='')\n",
    "\n",
    "\n",
    "    def get_new_data(self):\n",
    "    \n",
    "        self.read_serial_monitor()\n",
    "        \n",
    "        timestamp,ax,ay,az,gx,gy,gz,mx,my,mz = self.char_list\n",
    "        \n",
    "        if mz == 'ovf': \n",
    "            mz = 0\n",
    "            \n",
    "        timestamp,ax,ay,az,gx,gy,gz,mx,my,mz = float(timestamp),float(ax),float(ay),float(az),float(gx),float(gy),float(gz),float(mx),float(my),float(mz)\n",
    "\n",
    "        timestamp /= 1000\n",
    "        gx,gy,gz  = np.deg2rad(gx),np.deg2rad(gy),np.deg2rad(gz)\n",
    "        \n",
    "        self.update_raw_vectors(timestamp,ax,ay,az,gx,gy,gz,mx,my,mz)\n",
    "        \n",
    "    def update_raw_vectors(self,timestamp,ax,ay,az,gx,gy,gz,mx,my,mz):\n",
    "        \n",
    "        self.Timestamp.append(float(timestamp))\n",
    "        self.TimeInterval.append(self.Timestamp[-1]-self.Timestamp[-2])\n",
    "        self.Accelerometer['x'].append(ax);self.Accelerometer['y'].append(ay);self.Accelerometer['z'].append(az)\n",
    "        self.Gyroscope['x'].append(gx);    self.Gyroscope['y'].append(gy);    self.Gyroscope['z'].append(gz)\n",
    "        self.Magnetometer['x'].append(mx); self.Magnetometer['y'].append(my); self.Magnetometer['z'].append(mz)\n",
    "\n",
    "   \n",
    "    def read(self):\n",
    "            \n",
    "        self.arduinoData = serial.Serial(self.serial_port, self.baud_rate) \n",
    "        \n",
    "        self.wait_serial_monitor()\n",
    "        self.get_new_data()\n",
    "        \n",
    "        while True:\n",
    "            \n",
    "            self.get_new_data()\n",
    "            \n",
    "            alpha = 0.02\n",
    "            \n",
    "            self.Roll['Accelerometer'].append( np.arctan2(self.Accelerometer['y'][-1],self.Accelerometer['x'][-1]))\n",
    "            self.Roll['Gyroscope'].append(self.Gyroscope['z'][-1]*self.TimeInterval[-1]+self.Roll['Gyroscope'][-1])\n",
    "            #self.Roll['Magnetometer']\n",
    "            self.Roll['Complementary'].append((1-alpha)*(self.Roll['Complementary'][-1]  + self.Gyroscope['z'][-1]*self.TimeInterval[-1]) + alpha*self.Roll['Accelerometer'][-1])\n",
    "            \n",
    "            if (self.Magnetometer['x'][-1]==0)&(self.Magnetometer['y'][-1]==0)&(self.Magnetometer['z'][-1]==0):\n",
    "                \n",
    "                self.Magnetometer['x'][-1],self.Magnetometer['y'][-1],self.Magnetometer['z'][-1]=self.Magnetometer['x'][-2],self.Magnetometer['y'][-2],self.Magnetometer['z'][-2]\n",
    "\n",
    "            \n",
    "            "
   ]
  },
  {
   "cell_type": "markdown",
   "id": "7addc51c",
   "metadata": {},
   "source": [
    "# Single plot"
   ]
  },
  {
   "cell_type": "code",
   "execution_count": 50,
   "id": "7455f829",
   "metadata": {},
   "outputs": [
    {
     "name": "stdout",
     "output_type": "stream",
     "text": [
      "Connected     "
     ]
    }
   ],
   "source": [
    "my_arduino = arduino()\n",
    "#Loops the in_background function\n",
    "try:\n",
    "    thread = threading.Thread(target = my_arduino.read)\n",
    "    thread.start() \n",
    "\n",
    "except KeyboardInterrupt:\n",
    "    thread._Thread_stop() \n",
    "    #sys.exit()\n",
    "    \n",
    "fig, ax = plt.subplots(1,1)\n",
    "\n",
    "line,  = ax.plot(my_arduino.Timestamp,my_arduino.Accelerometer['x']);ax.set_ylim([-1.5,1.5]);ax.grid(True)\n",
    "\n",
    "def animate(i):\n",
    "    \n",
    "    line.set_ydata(my_arduino.Accelerometer['x'])\n",
    "\n",
    "ani = animation.FuncAnimation(fig, animate, interval=200)"
   ]
  },
  {
   "cell_type": "markdown",
   "id": "44bc3a7a",
   "metadata": {},
   "source": [
    "# Multiple plot"
   ]
  },
  {
   "cell_type": "code",
   "execution_count": 32,
   "id": "92f2bd84",
   "metadata": {},
   "outputs": [
    {
     "name": "stderr",
     "output_type": "stream",
     "text": [
      "Exception in thread Thread-22:\n",
      "Traceback (most recent call last):\n",
      "  File \"/Users/Tommaso/miniconda3/lib/python3.9/threading.py\", line 954, in _bootstrap_inner\n",
      "    self.run()\n",
      "  File \"/Users/Tommaso/miniconda3/lib/python3.9/threading.py\", line 892, in run\n",
      "    self._target(*self._args, **self._kwargs)\n",
      "  File \"/var/folders/js/5j9mcztd6ss89xbc4d0py4z40000gn/T/ipykernel_29012/3607783357.py\", line 86, in read\n",
      "  File \"/var/folders/js/5j9mcztd6ss89xbc4d0py4z40000gn/T/ipykernel_29012/3607783357.py\", line 54, in get_new_data\n",
      "  File \"/var/folders/js/5j9mcztd6ss89xbc4d0py4z40000gn/T/ipykernel_29012/3607783357.py\", line 33, in read_serial_monitor\n",
      "  File \"/Users/Tommaso/miniconda3/lib/python3.9/site-packages/serial/serialposix.py\", line 595, in read\n",
      "    raise SerialException(\n",
      "serial.serialutil.SerialException: device reports readiness to read but returned no data (device disconnected or multiple access on port?)\n"
     ]
    },
    {
     "name": "stdout",
     "output_type": "stream",
     "text": [
      "Connected     "
     ]
    }
   ],
   "source": [
    "my_arduino = arduino()\n",
    "#Loops the in_background function\n",
    "try:\n",
    "    thread = threading.Thread(target = my_arduino.read)\n",
    "    thread.start() \n",
    "\n",
    "except KeyboardInterrupt:\n",
    "    thread._Thread_stop() \n",
    "    #sys.exit()\n",
    "    \n",
    "fig, (ax1,ax2,ax3) = plt.subplots(3,1,figsize=[6.4,4.8*3])\n",
    "\n",
    "Ax, = ax1.plot(np.arange(1000),my_arduino.Accelerometer['x'])\n",
    "Ay, = ax1.plot(np.arange(1000),my_arduino.Accelerometer['y'])\n",
    "Az, = ax1.plot(np.arange(1000),my_arduino.Accelerometer['z'])\n",
    "\n",
    "Gx, = ax2.plot(np.arange(1000),my_arduino.Gyroscope['x'])\n",
    "Gy, = ax2.plot(np.arange(1000),my_arduino.Gyroscope['y'])\n",
    "Gz, = ax2.plot(np.arange(1000),my_arduino.Gyroscope['z'])\n",
    "\n",
    "Mx, = ax3.plot(np.arange(1000),my_arduino.Magnetometer['x'])\n",
    "My, = ax3.plot(np.arange(1000),my_arduino.Magnetometer['y'])\n",
    "Mz, = ax3.plot(np.arange(1000),my_arduino.Magnetometer['z'])\n",
    "\n",
    "ax1.grid(True);ax2.grid(True);ax3.grid(True)\n",
    "\n",
    "\n",
    "ax1.set_ylim([-1.5,1.5]);ax2.set_ylim([-25,25]);ax3.set_ylim([-50,50])\n",
    "\n",
    "def animate(i):\n",
    "    \n",
    "    Ax.set_ydata(my_arduino.Accelerometer['x'])\n",
    "    Ay.set_ydata(my_arduino.Accelerometer['y'])\n",
    "    Az.set_ydata(my_arduino.Accelerometer['z'])\n",
    "    \n",
    "    Gx.set_ydata(my_arduino.Gyroscope['x'])\n",
    "    Gy.set_ydata(my_arduino.Gyroscope['y'])\n",
    "    Gz.set_ydata(my_arduino.Gyroscope['z'])\n",
    "    \n",
    "    Mx.set_ydata(my_arduino.Magnetometer['x'])\n",
    "    My.set_ydata(my_arduino.Magnetometer['y'])\n",
    "    Mz.set_ydata(my_arduino.Magnetometer['z'])\n",
    "\n",
    "ani = animation.FuncAnimation(fig, animate, interval=200)"
   ]
  },
  {
   "cell_type": "markdown",
   "id": "d8ce462e",
   "metadata": {},
   "source": [
    "# 3d Plot Accelerometer-Magnetometer"
   ]
  },
  {
   "cell_type": "code",
   "execution_count": null,
   "id": "416071a2",
   "metadata": {},
   "outputs": [
    {
     "name": "stdout",
     "output_type": "stream",
     "text": [
      "['183502', '0.05', '-1.00', '0.15', '0.85', '0.98', '0.24', '-6.20', '57.71', '-13.82']]"
     ]
    },
    {
     "name": "stderr",
     "output_type": "stream",
     "text": [
      "/var/folders/js/5j9mcztd6ss89xbc4d0py4z40000gn/T/ipykernel_7997/861405049.py:15: MatplotlibDeprecationWarning: Axes3D(fig) adding itself to the figure is deprecated since 3.4. Pass the keyword argument auto_add_to_figure=False and use fig.add_axes(ax) to suppress this warning. The default value of auto_add_to_figure will change to False in mpl3.5 and True values will no longer work in 3.6.  This is consistent with other Axes classes.\n",
      "  ax  = p3.Axes3D(fig)\n"
     ]
    },
    {
     "name": "stdout",
     "output_type": "stream",
     "text": [
      "['1', '-.558.29', '-12.39']"
     ]
    },
    {
     "name": "stderr",
     "output_type": "stream",
     "text": [
      "Exception in thread Thread-13:\n",
      "Traceback (most recent call last):\n",
      "  File \"/Users/Tommaso/miniconda3/lib/python3.9/threading.py\", line 954, in _bootstrap_inner\n",
      "    self.run()\n",
      "  File \"/Users/Tommaso/miniconda3/lib/python3.9/threading.py\", line 892, in run\n",
      "    self._target(*self._args, **self._kwargs)\n",
      "  File \"/var/folders/js/5j9mcztd6ss89xbc4d0py4z40000gn/T/ipykernel_7997/2977669404.py\", line 92, in read\n",
      "  File \"/var/folders/js/5j9mcztd6ss89xbc4d0py4z40000gn/T/ipykernel_7997/2977669404.py\", line 62, in get_new_data\n",
      "ValueError: too many values to unpack (expected 10)\n"
     ]
    },
    {
     "name": "stdout",
     "output_type": "stream",
     "text": [
      "['349593', '0.06', '-1.00', '0.16', '0.85', '1.16', '0.61', '-5.87', '58.65', '-12.23']']']]0', '-12.48']"
     ]
    },
    {
     "name": "stderr",
     "output_type": "stream",
     "text": [
      "Exception in thread Thread-14:\n",
      "Traceback (most recent call last):\n",
      "  File \"/Users/Tommaso/miniconda3/lib/python3.9/site-packages/serial/serialposix.py\", line 575, in read\n",
      "    buf = os.read(self.fd, size - len(read))\n",
      "OSError: [Errno 6] Device not configured\n",
      "\n",
      "During handling of the above exception, another exception occurred:\n",
      "\n",
      "Traceback (most recent call last):\n",
      "  File \"/Users/Tommaso/miniconda3/lib/python3.9/threading.py\", line 954, in _bootstrap_inner\n",
      "    self.run()\n",
      "  File \"/Users/Tommaso/miniconda3/lib/python3.9/threading.py\", line 892, in run\n",
      "    self._target(*self._args, **self._kwargs)\n",
      "  File \"/var/folders/js/5j9mcztd6ss89xbc4d0py4z40000gn/T/ipykernel_7997/2977669404.py\", line 92, in read\n",
      "  File \"/var/folders/js/5j9mcztd6ss89xbc4d0py4z40000gn/T/ipykernel_7997/2977669404.py\", line 60, in get_new_data\n",
      "  File \"/var/folders/js/5j9mcztd6ss89xbc4d0py4z40000gn/T/ipykernel_7997/2977669404.py\", line 40, in read_serial_monitor\n",
      "  File \"/Users/Tommaso/miniconda3/lib/python3.9/site-packages/serial/serialposix.py\", line 581, in read\n",
      "    raise SerialException('read failed: {}'.format(e))\n",
      "serial.serialutil.SerialException: read failed: [Errno 6] Device not configured\n"
     ]
    }
   ],
   "source": [
    "import mpl_toolkits.mplot3d.axes3d as p3\n",
    "\n",
    "my_arduino = arduino()\n",
    "#Loops the in_background function\n",
    "try:\n",
    "    thread = threading.Thread(target = my_arduino.read)\n",
    "    thread.start() \n",
    "\n",
    "except KeyboardInterrupt:\n",
    "    thread._Thread_stop() \n",
    "    #sys.exit()\n",
    "    \n",
    "\n",
    "fig = plt.figure()\n",
    "ax  = p3.Axes3D(fig)\n",
    "\n",
    "A, = ax.plot([0,my_arduino.Accelerometer['x'][-1]],[0,my_arduino.Accelerometer['y'][-1]],[0,my_arduino.Accelerometer['z'][-1]],'o-',color='r')\n",
    "M, = ax.plot([0,my_arduino.Magnetometer['x'][-1]/50],[0,my_arduino.Magnetometer['y'][-1]/50],[0,my_arduino.Magnetometer['z'][-1]/50],'o-',color='g')\n",
    "\n",
    "ax.plot([0,1],[0,0],[0,0],'k--');ax.plot([0,-1],[0,0],[0,0],'k:')\n",
    "ax.plot([0,0],[0,1],[0,0],'k--');ax.plot([0,0],[0,-1],[0,0],'k:')\n",
    "ax.plot([0,0],[0,0],[0,1],'k--');ax.plot([0,0],[0,0],[0,-1],'k:')\n",
    "\n",
    "# Setting the axes properties\n",
    "ax.set_xlim3d([-1.5, 1.5])\n",
    "ax.set_xlabel('X')\n",
    "\n",
    "ax.set_ylim3d([-1.5, 1.5])\n",
    "ax.set_ylabel('Y')\n",
    "\n",
    "ax.set_zlim3d([-1.5, 1.5])\n",
    "ax.set_zlabel('Z')\n",
    "\n",
    "ax.set_title('3D Test')\n",
    "\n",
    "def animate(i,Accelerometer,Magnetometer,A,M):\n",
    "    \n",
    "    Axydata = np.vstack([[0,Accelerometer['x'][-1]],[0,Accelerometer['y'][-1]]])\n",
    "    A.set_data(Axydata)\n",
    "    A.set_3d_properties([0,Accelerometer['z'][-1]])\n",
    "\n",
    "    Mxydata = np.vstack([[0,Magnetometer['x'][-1]/50],[0,Magnetometer['y'][-1]/50]])\n",
    "    M.set_data(Mxydata)\n",
    "    M.set_3d_properties([0,Magnetometer['z'][-1]/50])\n",
    "\n",
    "    # Creating the Animation object\n",
    "line_ani = animation.FuncAnimation(fig, animate, fargs=(my_arduino.Accelerometer,my_arduino.Magnetometer,A,M)\n",
    "                                   )"
   ]
  },
  {
   "cell_type": "markdown",
   "id": "341609fa",
   "metadata": {},
   "source": [
    "# Yaw Pitch Roll"
   ]
  },
  {
   "cell_type": "code",
   "execution_count": 62,
   "id": "0a630daa",
   "metadata": {},
   "outputs": [
    {
     "data": {
      "text/plain": [
       "(0.2792526803190927, 0.08726646259971647)"
      ]
     },
     "execution_count": 62,
     "metadata": {},
     "output_type": "execute_result"
    }
   ],
   "source": [
    "np.deg2rad(16),np.deg2rad(5)"
   ]
  },
  {
   "cell_type": "code",
   "execution_count": 63,
   "id": "83c7c770",
   "metadata": {},
   "outputs": [
    {
     "data": {
      "text/plain": [
       "(-0.3490658503988659, 0.3490658503988659)"
      ]
     },
     "execution_count": 63,
     "metadata": {},
     "output_type": "execute_result"
    }
   ],
   "source": [
    "plt.plot([-np.pi,np.pi],[-np.pi,np.pi])\n",
    "plt.grid()\n",
    "plt.xticks([-np.pi,-np.deg2rad(16),-np.deg2rad(5),0,np.deg2rad(5),np.deg2rad(16),np.pi],[\"-90\",\"-16\",\"-5\",\"0\",\"5\",\"16\",\"90\"])\n",
    "plt.xlim([-np.deg2rad(20),np.deg2rad(20)])"
   ]
  },
  {
   "cell_type": "code",
   "execution_count": 69,
   "id": "c132205a",
   "metadata": {},
   "outputs": [
    {
     "name": "stderr",
     "output_type": "stream",
     "text": [
      "Exception in thread Thread-37:\n",
      "Traceback (most recent call last):\n",
      "  File \"/Users/Tommaso/miniconda3/lib/python3.9/threading.py\", line 954, in _bootstrap_inner\n",
      "    self.run()\n",
      "  File \"/Users/Tommaso/miniconda3/lib/python3.9/threading.py\", line 892, in run\n",
      "    self._target(*self._args, **self._kwargs)\n",
      "  File \"/var/folders/js/5j9mcztd6ss89xbc4d0py4z40000gn/T/ipykernel_29012/2852808428.py\", line 86, in read\n",
      "  File \"/var/folders/js/5j9mcztd6ss89xbc4d0py4z40000gn/T/ipykernel_29012/2852808428.py\", line 56, in get_new_data\n",
      "ValueError: not enough values to unpack (expected 10, got 1)\n"
     ]
    },
    {
     "name": "stdout",
     "output_type": "stream",
     "text": [
      "Connected     "
     ]
    },
    {
     "name": "stderr",
     "output_type": "stream",
     "text": [
      "Exception in thread Thread-38:\n",
      "Traceback (most recent call last):\n",
      "  File \"/Users/Tommaso/miniconda3/lib/python3.9/site-packages/serial/serialposix.py\", line 575, in read\n",
      "    buf = os.read(self.fd, size - len(read))\n",
      "OSError: [Errno 6] Device not configured\n",
      "\n",
      "During handling of the above exception, another exception occurred:\n",
      "\n",
      "Traceback (most recent call last):\n",
      "  File \"/Users/Tommaso/miniconda3/lib/python3.9/threading.py\", line 954, in _bootstrap_inner\n",
      "    self.run()\n",
      "  File \"/Users/Tommaso/miniconda3/lib/python3.9/threading.py\", line 892, in run\n",
      "    self._target(*self._args, **self._kwargs)\n",
      "  File \"/var/folders/js/5j9mcztd6ss89xbc4d0py4z40000gn/T/ipykernel_29012/2852808428.py\", line 86, in read\n",
      "  File \"/var/folders/js/5j9mcztd6ss89xbc4d0py4z40000gn/T/ipykernel_29012/2852808428.py\", line 54, in get_new_data\n",
      "  File \"/var/folders/js/5j9mcztd6ss89xbc4d0py4z40000gn/T/ipykernel_29012/2852808428.py\", line 33, in read_serial_monitor\n",
      "  File \"/Users/Tommaso/miniconda3/lib/python3.9/site-packages/serial/serialposix.py\", line 581, in read\n",
      "    raise SerialException('read failed: {}'.format(e))\n",
      "serial.serialutil.SerialException: read failed: [Errno 6] Device not configured\n"
     ]
    }
   ],
   "source": [
    "my_arduino = arduino()\n",
    "#Loops the in_background function\n",
    "try:\n",
    "    thread = threading.Thread(target = my_arduino.read)\n",
    "    thread.start() \n",
    "\n",
    "except KeyboardInterrupt:\n",
    "    thread._Thread_stop() \n",
    "    #sys.exit()\n",
    "    \n",
    "fig, ax3 = plt.subplots(1,1,figsize=[6.4,4.8])\n",
    "\n",
    "#RollAccelerometer, = ax3.plot(my_arduino.Roll['Accelerometer'],np.arange(1000))\n",
    "#RollGyroscope,     = ax3.plot(my_arduino.Roll['Gyroscope'],np.arange(1000))\n",
    "RollComplementary, = ax3.plot(my_arduino.Roll['Complementary'],np.arange(1000))\n",
    "\n",
    "\n",
    "\n",
    "#lim = [-np.pi*1.1,np.pi*1.1]\n",
    "#ax1.set_ylim(lim);ax2.set_ylim(lim);ax3.set_ylim(lim)\n",
    "\n",
    "ax3.set_xticks([-np.pi,-np.deg2rad(16),-np.deg2rad(5),0,np.deg2rad(5),np.deg2rad(16),np.pi],[\"-90\",\"-16\",\"-5\",\"0\",\"5\",\"16\",\"90\"])\n",
    "ax3.set_xlim([-np.deg2rad(20),np.deg2rad(20)])\n",
    "ax3.grid(True)\n",
    "\n",
    "def animate(i):\n",
    "    \n",
    "    \n",
    "    #RollAccelerometer.set_xdata(my_arduino.Roll['Accelerometer'])\n",
    "    #RollGyroscope.set_xdata(my_arduino.Roll['Gyroscope'])\n",
    "    RollComplementary.set_xdata(my_arduino.Roll['Complementary'])\n",
    "\n",
    "ani = animation.FuncAnimation(fig, animate, interval=200)"
   ]
  },
  {
   "cell_type": "code",
   "execution_count": 68,
   "id": "569862e0",
   "metadata": {},
   "outputs": [
    {
     "name": "stdout",
     "output_type": "stream",
     "text": [
      "Connected     "
     ]
    },
    {
     "name": "stderr",
     "output_type": "stream",
     "text": [
      "/var/folders/js/5j9mcztd6ss89xbc4d0py4z40000gn/T/ipykernel_29012/2314768487.py:15: MatplotlibDeprecationWarning: Axes3D(fig) adding itself to the figure is deprecated since 3.4. Pass the keyword argument auto_add_to_figure=False and use fig.add_axes(ax) to suppress this warning. The default value of auto_add_to_figure will change to False in mpl3.5 and True values will no longer work in 3.6.  This is consistent with other Axes classes.\n",
      "  ax  = p3.Axes3D(fig)\n"
     ]
    },
    {
     "ename": "AttributeError",
     "evalue": "'arduino' object has no attribute 'Yaw'",
     "output_type": "error",
     "traceback": [
      "\u001b[0;31m---------------------------------------------------------------------------\u001b[0m",
      "\u001b[0;31mAttributeError\u001b[0m                            Traceback (most recent call last)",
      "\u001b[1;32m/Users/Tommaso/Documents/PythonCode/Propricezione/Propricezione.ipynb Cell 17\u001b[0m in \u001b[0;36m<module>\u001b[0;34m\u001b[0m\n\u001b[1;32m     <a href='vscode-notebook-cell:/Users/Tommaso/Documents/PythonCode/Propricezione/Propricezione.ipynb#X20sZmlsZQ%3D%3D?line=13'>14</a>\u001b[0m fig \u001b[39m=\u001b[39m plt\u001b[39m.\u001b[39mfigure()\n\u001b[1;32m     <a href='vscode-notebook-cell:/Users/Tommaso/Documents/PythonCode/Propricezione/Propricezione.ipynb#X20sZmlsZQ%3D%3D?line=14'>15</a>\u001b[0m ax  \u001b[39m=\u001b[39m p3\u001b[39m.\u001b[39mAxes3D(fig)\n\u001b[0;32m---> <a href='vscode-notebook-cell:/Users/Tommaso/Documents/PythonCode/Propricezione/Propricezione.ipynb#X20sZmlsZQ%3D%3D?line=16'>17</a>\u001b[0m YPR, \u001b[39m=\u001b[39m ax\u001b[39m.\u001b[39mplot(my_arduino\u001b[39m.\u001b[39;49mYaw[\u001b[39m'\u001b[39m\u001b[39mComplementary\u001b[39m\u001b[39m'\u001b[39m][\u001b[39m-\u001b[39m\u001b[39m1\u001b[39m],my_arduino\u001b[39m.\u001b[39mPitch[\u001b[39m'\u001b[39m\u001b[39mComplementary\u001b[39m\u001b[39m'\u001b[39m][\u001b[39m-\u001b[39m\u001b[39m1\u001b[39m],my_arduino\u001b[39m.\u001b[39mRoll[\u001b[39m'\u001b[39m\u001b[39mComplementary\u001b[39m\u001b[39m'\u001b[39m][\u001b[39m-\u001b[39m\u001b[39m1\u001b[39m],\u001b[39m'\u001b[39m\u001b[39mo-\u001b[39m\u001b[39m'\u001b[39m,color\u001b[39m=\u001b[39m\u001b[39m'\u001b[39m\u001b[39mr\u001b[39m\u001b[39m'\u001b[39m)\n\u001b[1;32m     <a href='vscode-notebook-cell:/Users/Tommaso/Documents/PythonCode/Propricezione/Propricezione.ipynb#X20sZmlsZQ%3D%3D?line=18'>19</a>\u001b[0m ax\u001b[39m.\u001b[39mplot([\u001b[39m0\u001b[39m,\u001b[39m1\u001b[39m],[\u001b[39m0\u001b[39m,\u001b[39m0\u001b[39m],[\u001b[39m0\u001b[39m,\u001b[39m0\u001b[39m],\u001b[39m'\u001b[39m\u001b[39mk--\u001b[39m\u001b[39m'\u001b[39m);ax\u001b[39m.\u001b[39mplot([\u001b[39m0\u001b[39m,\u001b[39m-\u001b[39m\u001b[39m1\u001b[39m],[\u001b[39m0\u001b[39m,\u001b[39m0\u001b[39m],[\u001b[39m0\u001b[39m,\u001b[39m0\u001b[39m],\u001b[39m'\u001b[39m\u001b[39mk:\u001b[39m\u001b[39m'\u001b[39m)\n\u001b[1;32m     <a href='vscode-notebook-cell:/Users/Tommaso/Documents/PythonCode/Propricezione/Propricezione.ipynb#X20sZmlsZQ%3D%3D?line=19'>20</a>\u001b[0m ax\u001b[39m.\u001b[39mplot([\u001b[39m0\u001b[39m,\u001b[39m0\u001b[39m],[\u001b[39m0\u001b[39m,\u001b[39m1\u001b[39m],[\u001b[39m0\u001b[39m,\u001b[39m0\u001b[39m],\u001b[39m'\u001b[39m\u001b[39mk--\u001b[39m\u001b[39m'\u001b[39m);ax\u001b[39m.\u001b[39mplot([\u001b[39m0\u001b[39m,\u001b[39m0\u001b[39m],[\u001b[39m0\u001b[39m,\u001b[39m-\u001b[39m\u001b[39m1\u001b[39m],[\u001b[39m0\u001b[39m,\u001b[39m0\u001b[39m],\u001b[39m'\u001b[39m\u001b[39mk:\u001b[39m\u001b[39m'\u001b[39m)\n",
      "\u001b[0;31mAttributeError\u001b[0m: 'arduino' object has no attribute 'Yaw'"
     ]
    }
   ],
   "source": [
    "import mpl_toolkits.mplot3d.axes3d as p3\n",
    "\n",
    "my_arduino = arduino()\n",
    "#Loops the in_background function\n",
    "try:\n",
    "    thread = threading.Thread(target = my_arduino.read)\n",
    "    thread.start() \n",
    "\n",
    "except KeyboardInterrupt:\n",
    "    thread._Thread_stop() \n",
    "    #sys.exit()\n",
    "    \n",
    "\n",
    "fig = plt.figure()\n",
    "ax  = p3.Axes3D(fig)\n",
    "\n",
    "YPR, = ax.plot(my_arduino.Yaw['Complementary'][-1],my_arduino.Pitch['Complementary'][-1],my_arduino.Roll['Complementary'][-1],'o-',color='r')\n",
    "\n",
    "ax.plot([0,1],[0,0],[0,0],'k--');ax.plot([0,-1],[0,0],[0,0],'k:')\n",
    "ax.plot([0,0],[0,1],[0,0],'k--');ax.plot([0,0],[0,-1],[0,0],'k:')\n",
    "ax.plot([0,0],[0,0],[0,1],'k--');ax.plot([0,0],[0,0],[0,-1],'k:')\n",
    "\n",
    "# Setting the axes properties\n",
    "ax.set_xlim3d([-1.5, 1.5])\n",
    "ax.set_xlabel('Yaw')\n",
    "\n",
    "ax.set_ylim3d([-1.5, 1.5])\n",
    "ax.set_ylabel('Pitch')\n",
    "\n",
    "ax.set_zlim3d([-1.5, 1.5])\n",
    "ax.set_zlabel('Roll')\n",
    "\n",
    "ax.set_title('3D Test')\n",
    "\n",
    "def animate(i,my_arduino,YPR):\n",
    "    \n",
    "    xydata = np.vstack([my_arduino.Yaw['Complementary'][-1],my_arduino.Pitch['Complementary'][-1]])\n",
    "    YPR.set_data(xydata)\n",
    "    YPR.set_3d_properties(my_arduino.Roll['Complementary'][-1])\n",
    "\n",
    "    # Creating the Animation object\n",
    "line_ani = animation.FuncAnimation(fig, animate, fargs=(my_arduino,YPR)\n",
    "                                   )"
   ]
  },
  {
   "cell_type": "markdown",
   "id": "aef8cc9f",
   "metadata": {},
   "source": [
    "# 3D SUP"
   ]
  },
  {
   "cell_type": "code",
   "execution_count": 6,
   "id": "7a5d5299",
   "metadata": {},
   "outputs": [],
   "source": [
    "def Rx(theta_x):#roll\n",
    "    return np.array([[1, 0, 0],[0, np.cos(theta_x),-np.sin(theta_x)],[0, np.sin(theta_x),np.cos(theta_x)]])\n",
    "\n",
    "def Ry(theta_y):#pitch\n",
    "    return np.array([[np.cos(theta_y), 0, np.sin(theta_y)],[0, 1, 0],[-np.sin(theta_y), 0, np.cos(theta_y)]])\n",
    "\n",
    "def Rz(theta_z):#yaw\n",
    "    return np.array([[np.cos(theta_z),-np.sin(theta_z), 0],[np.sin(theta_z),np.cos(theta_z), 0],[0,0,1]])\n",
    "\n",
    "def rotation(SUP,yaw,pitch,roll):\n",
    "\n",
    "    R = np.dot(Rz(yaw),np.dot(Ry(pitch),Rx(roll)))\n",
    "    \n",
    "    return np.dot(R,SUP)\n",
    "\n",
    "SUP = np.array([[-3,3,4,3,-3,-3],[-1,-1,0,1,1,-1],[0,0,0,0,0,0]])\n",
    "\n",
    "STICKMAN = np.array([[0,0,0,0,0,0,0,0,0,0],[-0.75,0,0.75,0,0,0,-1,-1,0,1],[0,2,0,2,4.5,4,3,3,4,3]])"
   ]
  },
  {
   "cell_type": "code",
   "execution_count": 71,
   "id": "ff8534b5",
   "metadata": {},
   "outputs": [
    {
     "name": "stdout",
     "output_type": "stream",
     "text": [
      "/Users/Tommaso/Documents/PythonCode/Propricezione\n"
     ]
    }
   ],
   "source": [
    "!pwd"
   ]
  },
  {
   "cell_type": "code",
   "execution_count": 7,
   "id": "e02c088e",
   "metadata": {},
   "outputs": [
    {
     "name": "stderr",
     "output_type": "stream",
     "text": [
      "Exception in thread Thread-7:\n",
      "Traceback (most recent call last):\n",
      "  File \"/Users/Tommaso/miniconda3/lib/python3.9/threading.py\", line 954, in _bootstrap_inner\n",
      "/var/folders/js/5j9mcztd6ss89xbc4d0py4z40000gn/T/ipykernel_8848/167336157.py:15: MatplotlibDeprecationWarning: Axes3D(fig) adding itself to the figure is deprecated since 3.4. Pass the keyword argument auto_add_to_figure=False and use fig.add_axes(ax) to suppress this warning. The default value of auto_add_to_figure will change to False in mpl3.5 and True values will no longer work in 3.6.  This is consistent with other Axes classes.\n",
      "  ax  = p3.Axes3D(fig)\n",
      "    self.run()\n"
     ]
    },
    {
     "name": "stdout",
     "output_type": "stream",
     "text": [
      "Connected     "
     ]
    },
    {
     "name": "stderr",
     "output_type": "stream",
     "text": [
      "  File \"/Users/Tommaso/miniconda3/lib/python3.9/threading.py\", line 892, in run\n",
      "    self._target(*self._args, **self._kwargs)\n",
      "  File \"/var/folders/js/5j9mcztd6ss89xbc4d0py4z40000gn/T/ipykernel_8848/610916887.py\", line 93, in read\n",
      "  File \"/var/folders/js/5j9mcztd6ss89xbc4d0py4z40000gn/T/ipykernel_8848/610916887.py\", line 61, in get_new_data\n"
     ]
    },
    {
     "name": "stderr",
     "output_type": "stream",
     "text": [
      "  File \"/var/folders/js/5j9mcztd6ss89xbc4d0py4z40000gn/T/ipykernel_8848/610916887.py\", line 40, in read_serial_monitor\n",
      "  File \"/Users/Tommaso/miniconda3/lib/python3.9/site-packages/serial/serialposix.py\", line 595, in read\n",
      "    raise SerialException(\n",
      "serial.serialutil.SerialException: device reports readiness to read but returned no data (device disconnected or multiple access on port?)\n"
     ]
    }
   ],
   "source": [
    "import mpl_toolkits.mplot3d.axes3d as p3\n",
    "\n",
    "my_arduino = arduino()\n",
    "#Loops the in_background function\n",
    "try:\n",
    "    thread = threading.Thread(target = my_arduino.read)\n",
    "    thread.start() \n",
    "\n",
    "except KeyboardInterrupt:\n",
    "    thread._Thread_stop() \n",
    "    #sys.exit()\n",
    "    \n",
    "\n",
    "fig = plt.figure()\n",
    "ax  = p3.Axes3D(fig)\n",
    "\n",
    "SUPline,      = ax.plot(SUP[0],SUP[1],SUP[2])\n",
    "STICKMANline, = ax.plot(STICKMAN[0],STICKMAN[1],STICKMAN[2])\n",
    "\n",
    "ax.plot([0,1],[0,0],[0,0],'k--');ax.plot([0,-1],[0,0],[0,0],'k:')\n",
    "ax.plot([0,0],[0,1],[0,0],'k--');ax.plot([0,0],[0,-1],[0,0],'k:')\n",
    "ax.plot([0,0],[0,0],[0,1],'k--');ax.plot([0,0],[0,0],[0,-1],'k:')\n",
    "\n",
    "# Setting the axes properties\n",
    "ax.set_xlim3d([-10,10])\n",
    "ax.set_xlabel('X')\n",
    "\n",
    "ax.set_ylim3d([-10,10])\n",
    "ax.set_ylabel('Y')\n",
    "\n",
    "ax.set_zlim3d([-10,10])\n",
    "ax.set_zlabel('Z')\n",
    "\n",
    "ax.set_title('3D Test')\n",
    "\n",
    "def animate(i):\n",
    "    \n",
    "    rotatedSUP      = rotation(SUP,my_arduino.Yaw['Complementary'][-1],my_arduino.Pitch['Complementary'][-1],my_arduino.Roll['Complementary'][-1])\n",
    "    rotatedSTICKMAN = rotation(STICKMAN,my_arduino.Yaw['Complementary'][-1],my_arduino.Pitch['Complementary'][-1],my_arduino.Roll['Complementary'][-1])\n",
    "    \n",
    "    SUPline.set_data(rotatedSUP[:2])\n",
    "    SUPline.set_3d_properties(rotatedSUP[2])\n",
    "    \n",
    "    STICKMANline.set_data(rotatedSTICKMAN[:2])\n",
    "    STICKMANline.set_3d_properties(rotatedSTICKMAN[2])\n",
    "    \n",
    "ani = animation.FuncAnimation(fig, animate, interval=200)"
   ]
  },
  {
   "cell_type": "code",
   "execution_count": null,
   "id": "acbeea93",
   "metadata": {},
   "outputs": [],
   "source": []
  }
 ],
 "metadata": {
  "kernelspec": {
   "display_name": "Python 3.9.5 ('base')",
   "language": "python",
   "name": "python3"
  },
  "language_info": {
   "codemirror_mode": {
    "name": "ipython",
    "version": 3
   },
   "file_extension": ".py",
   "mimetype": "text/x-python",
   "name": "python",
   "nbconvert_exporter": "python",
   "pygments_lexer": "ipython3",
   "version": "3.9.5"
  },
  "vscode": {
   "interpreter": {
    "hash": "0ef28638db3e0715cbd1390846db5a656635755ef8f27a2e5e3b5c2f4b7a222d"
   }
  }
 },
 "nbformat": 4,
 "nbformat_minor": 5
}
